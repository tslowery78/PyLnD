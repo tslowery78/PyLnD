{
  "cells": [
    {
      "metadata": {
        "trusted": true
      },
      "cell_type": "code",
      "source": "# test of notebooks",
      "execution_count": 1,
      "outputs": []
    },
    {
      "metadata": {
        "trusted": true
      },
      "cell_type": "code",
      "source": "import sys",
      "execution_count": 1,
      "outputs": []
    },
    {
      "metadata": {
        "trusted": true
      },
      "cell_type": "code",
      "source": "sys.path",
      "execution_count": 2,
      "outputs": [
        {
          "output_type": "execute_result",
          "execution_count": 2,
          "data": {
            "text/plain": "['',\n '/home/nbuser/library',\n '/home/nbuser/anaconda3_501/lib/python36.zip',\n '/home/nbuser/anaconda3_501/lib/python3.6',\n '/home/nbuser/anaconda3_501/lib/python3.6/lib-dynload',\n '/home/nbuser/.local/lib/python3.6/site-packages',\n '/home/nbuser/anaconda3_501/lib/python3.6/site-packages',\n '/home/nbuser/anaconda3_501/lib/python3.6/site-packages/torchvision-0.2.1-py3.6.egg',\n '/home/nbuser/anaconda3_501/lib/python3.6/site-packages/IPython/extensions',\n '/home/nbuser/.ipython']"
          },
          "metadata": {}
        }
      ]
    },
    {
      "metadata": {
        "trusted": true
      },
      "cell_type": "code",
      "source": "",
      "execution_count": null,
      "outputs": []
    }
  ],
  "metadata": {
    "kernelspec": {
      "name": "python36",
      "display_name": "Python 3.6",
      "language": "python"
    },
    "language_info": {
      "mimetype": "text/x-python",
      "nbconvert_exporter": "python",
      "name": "python",
      "pygments_lexer": "ipython3",
      "version": "3.6.6",
      "file_extension": ".py",
      "codemirror_mode": {
        "version": 3,
        "name": "ipython"
      }
    }
  },
  "nbformat": 4,
  "nbformat_minor": 1
}