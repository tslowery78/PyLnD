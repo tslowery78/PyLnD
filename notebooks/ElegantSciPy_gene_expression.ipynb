{
  "cells": [
    {
      "metadata": {
        "collapsed": true
      },
      "cell_type": "markdown",
      "source": "# Functions for Gene Expressions"
    },
    {
      "metadata": {},
      "cell_type": "markdown",
      "source": "Define a function to normalize the expression data using a method called RPKM normalization.  This allows the comparison of measurements between different samples and genes."
    },
    {
      "metadata": {},
      "cell_type": "markdown",
      "source": "<div class=\"alert alert-block alert-info\">\nIn this case, we want ot highlight NumPy's vectorization and broadcasting rules, which allow us to manipulate and reason about data arrays very efficiently.\n</div>"
    },
    {
      "metadata": {
        "trusted": true
      },
      "cell_type": "code",
      "source": "import numpy as np",
      "execution_count": 1,
      "outputs": []
    },
    {
      "metadata": {
        "trusted": true
      },
      "cell_type": "code",
      "source": "def rpkm(counts, lengths):\n    \"\"\"Calculate reads per kilobase transcript per million reads.\n    \n    RPKM = (10^9 * C) / (N * L)\n    \n    Where:\n    C = Number of reads mapped to a gene\n    N = Total mapped reads in the experiment\n    L = Exon length in base pairs for a gene\n    \n    Parameters\n    ----------\n    counts: array, shape (N_genes, N_samples)\n        RNAseq (or similar) count data where columns are individual samples and rows are genes.\n    lengths: array, shape (N_genes,)\n        Gene lengths in base pairs in the same order as the rows in counts.\n        \n    Returns\n    -------\n    normed: array, shape (N_genes, N_samples)\n        The RPKM normalized counts matrix.\n    \"\"\"\n    \n    N = np.sum(counts, axis=0)    # sum each column to get total reads per sample\n    L = lengths\n    C = counts\n    \n    normed = 1e9 * C / (N[np.newaxis, :] * L[:, np.newaxis])\n    \n    return(normed)",
      "execution_count": 2,
      "outputs": []
    },
    {
      "metadata": {},
      "cell_type": "markdown",
      "source": "Make gene expression a list of lists."
    },
    {
      "metadata": {
        "trusted": true
      },
      "cell_type": "code",
      "source": "gene0 = [100, 200]\ngene1 = [50, 0]\ngene2 = [350, 100]\nexpression_data = [gene0, gene1, gene2]",
      "execution_count": 3,
      "outputs": []
    },
    {
      "metadata": {
        "trusted": true
      },
      "cell_type": "code",
      "source": "expression_data[2][0]",
      "execution_count": 4,
      "outputs": [
        {
          "output_type": "execute_result",
          "execution_count": 4,
          "data": {
            "text/plain": "350"
          },
          "metadata": {}
        }
      ]
    },
    {
      "metadata": {
        "trusted": true
      },
      "cell_type": "markdown",
      "source": "NumPy N-Dimensional Arrays"
    },
    {
      "metadata": {
        "trusted": true
      },
      "cell_type": "code",
      "source": "array1d = np.array([1,2,3,4])\nprint(array1d)\nprint(type(array1d))\nprint(array1d.shape)",
      "execution_count": 5,
      "outputs": [
        {
          "output_type": "stream",
          "text": "[1 2 3 4]\n<class 'numpy.ndarray'>\n(4,)\n",
          "name": "stdout"
        }
      ]
    },
    {
      "metadata": {
        "trusted": true
      },
      "cell_type": "code",
      "source": "array2d = np.array(expression_data)\nprint(array2d)\nprint(array2d.shape)\nprint(type(array2d))",
      "execution_count": 6,
      "outputs": [
        {
          "output_type": "stream",
          "text": "[[100 200]\n [ 50   0]\n [350 100]]\n(3, 2)\n<class 'numpy.ndarray'>\n",
          "name": "stdout"
        }
      ]
    },
    {
      "metadata": {},
      "cell_type": "markdown",
      "source": "<div class=\"alert alert-block alert-success\">\nThis demonstrates that the shape function accounts for multi-dimensional arrays whereas len does not.\n</div>"
    },
    {
      "metadata": {
        "trusted": true
      },
      "cell_type": "code",
      "source": "print(array2d.ndim)",
      "execution_count": 7,
      "outputs": [
        {
          "output_type": "stream",
          "text": "2\n",
          "name": "stdout"
        }
      ]
    },
    {
      "metadata": {},
      "cell_type": "markdown",
      "source": "## Why Use ndarrays Instead of Python Lists?"
    },
    {
      "metadata": {
        "trusted": true
      },
      "cell_type": "code",
      "source": "# Create an ndarray of integers in the range\n# 0 up to (but not including) 1,000,000\narray = np.arange(1e6)\nlist_array = array.tolist()",
      "execution_count": 8,
      "outputs": []
    },
    {
      "metadata": {
        "trusted": true
      },
      "cell_type": "code",
      "source": "%timeit -n10 y = [val*5 for val in list_array]",
      "execution_count": 9,
      "outputs": [
        {
          "output_type": "stream",
          "text": "The slowest run took 4.71 times longer than the fastest. This could mean that an intermediate result is being cached.\n145 ms ± 114 ms per loop (mean ± std. dev. of 7 runs, 10 loops each)\n",
          "name": "stdout"
        }
      ]
    },
    {
      "metadata": {
        "trusted": true
      },
      "cell_type": "code",
      "source": "%timeit -n10 x = array * 5",
      "execution_count": 10,
      "outputs": [
        {
          "output_type": "stream",
          "text": "1.06 ms ± 311 µs per loop (mean ± std. dev. of 7 runs, 10 loops each)\n",
          "name": "stdout"
        }
      ]
    },
    {
      "metadata": {},
      "cell_type": "markdown",
      "source": "<div class=\"alert alert-block alert-success\">\nUsing numpy array makes the calculation 50x faster than a list comprehension on a list.\n</div>"
    },
    {
      "metadata": {},
      "cell_type": "markdown",
      "source": "Ndarrays are more memory efficient than lists, using only the minimal memory needed for what is in the array.  You can use slices of arrays without making a copy.  If you modify this assignment it will change the original array."
    },
    {
      "metadata": {
        "trusted": true
      },
      "cell_type": "code",
      "source": "# Create an ndarray x\nx = np.array([1, 2, 3], np.int32)\nprint(x)",
      "execution_count": 11,
      "outputs": [
        {
          "output_type": "stream",
          "text": "[1 2 3]\n",
          "name": "stdout"
        }
      ]
    },
    {
      "metadata": {
        "trusted": true
      },
      "cell_type": "code",
      "source": "# Create a \"slice\" of x\ny = x[:2]\nprint(y)",
      "execution_count": 12,
      "outputs": [
        {
          "output_type": "stream",
          "text": "[1 2]\n",
          "name": "stdout"
        }
      ]
    },
    {
      "metadata": {
        "trusted": true
      },
      "cell_type": "code",
      "source": "# Set the first element of y to be 6\ny[0] = 6\nprint(y)",
      "execution_count": 13,
      "outputs": [
        {
          "output_type": "stream",
          "text": "[6 2]\n",
          "name": "stdout"
        }
      ]
    },
    {
      "metadata": {
        "trusted": true
      },
      "cell_type": "code",
      "source": "# Now the first element in x has changed to 6!\nprint(x)",
      "execution_count": 14,
      "outputs": [
        {
          "output_type": "stream",
          "text": "[6 2 3]\n",
          "name": "stdout"
        }
      ]
    },
    {
      "metadata": {},
      "cell_type": "markdown",
      "source": "<div class=\"alert alert-block alert-danger\">\nNotice that although we edited y, x has also changed, because y was referencing the smae data!</div>"
    },
    {
      "metadata": {
        "trusted": true
      },
      "cell_type": "code",
      "source": "# You must be careful with array references, to make a copy\ny = np.copy(x[:2])",
      "execution_count": 15,
      "outputs": []
    },
    {
      "metadata": {},
      "cell_type": "markdown",
      "source": "## Vectorization"
    },
    {
      "metadata": {},
      "cell_type": "markdown",
      "source": "Apply a calculation to each element in an array without having to use a for loop.  This will also result in more readable code."
    },
    {
      "metadata": {
        "trusted": true
      },
      "cell_type": "code",
      "source": "x = np.array([1, 2, 3, 4])\nprint(x * 2)",
      "execution_count": 16,
      "outputs": [
        {
          "output_type": "stream",
          "text": "[2 4 6 8]\n",
          "name": "stdout"
        }
      ]
    },
    {
      "metadata": {
        "trusted": true
      },
      "cell_type": "code",
      "source": "y = np.array([0, 1, 2, 1])\nprint(x + y)",
      "execution_count": 17,
      "outputs": [
        {
          "output_type": "stream",
          "text": "[1 3 5 5]\n",
          "name": "stdout"
        }
      ]
    },
    {
      "metadata": {},
      "cell_type": "markdown",
      "source": "## Broadcasting"
    },
    {
      "metadata": {},
      "cell_type": "markdown",
      "source": "Broadcasting is a way of performing implicit operations between two arrays, allowing you to perform operations on arrays of *compatible* shapes, to create arrays bigger than either of the starting ones."
    },
    {
      "metadata": {
        "trusted": true
      },
      "cell_type": "code",
      "source": "x = np.array([1, 2, 3, 4])\nx = np.reshape(x, (len(x), 1))\nprint(x)",
      "execution_count": 25,
      "outputs": [
        {
          "output_type": "stream",
          "text": "[[1]\n [2]\n [3]\n [4]]\n",
          "name": "stdout"
        }
      ]
    },
    {
      "metadata": {
        "trusted": true
      },
      "cell_type": "code",
      "source": "x.shape",
      "execution_count": 28,
      "outputs": [
        {
          "output_type": "execute_result",
          "execution_count": 28,
          "data": {
            "text/plain": "(4, 1)"
          },
          "metadata": {}
        }
      ]
    },
    {
      "metadata": {
        "trusted": true
      },
      "cell_type": "code",
      "source": "y = np.array([0, 1, 2, 1])\ny = np.reshape(y, [1, len(y)])\nprint(y)",
      "execution_count": 29,
      "outputs": [
        {
          "output_type": "stream",
          "text": "[[0 1 2 1]]\n",
          "name": "stdout"
        }
      ]
    },
    {
      "metadata": {
        "trusted": true
      },
      "cell_type": "code",
      "source": "y.shape",
      "execution_count": 30,
      "outputs": [
        {
          "output_type": "execute_result",
          "execution_count": 30,
          "data": {
            "text/plain": "(1, 4)"
          },
          "metadata": {}
        }
      ]
    },
    {
      "metadata": {
        "trusted": true
      },
      "cell_type": "code",
      "source": "outer = x * y\nprint(outer)",
      "execution_count": 31,
      "outputs": [
        {
          "output_type": "stream",
          "text": "[[0 1 2 1]\n [0 2 4 2]\n [0 3 6 3]\n [0 4 8 4]]\n",
          "name": "stdout"
        }
      ]
    },
    {
      "metadata": {
        "trusted": true
      },
      "cell_type": "code",
      "source": "print(outer.shape)",
      "execution_count": 32,
      "outputs": [
        {
          "output_type": "stream",
          "text": "(4, 4)\n",
          "name": "stdout"
        }
      ]
    },
    {
      "metadata": {},
      "cell_type": "markdown",
      "source": "## Exploring a Gene Expressions Dataset"
    },
    {
      "metadata": {
        "trusted": true
      },
      "cell_type": "code",
      "source": "",
      "execution_count": null,
      "outputs": []
    }
  ],
  "metadata": {
    "kernelspec": {
      "name": "python36",
      "display_name": "Python 3.6",
      "language": "python"
    },
    "language_info": {
      "mimetype": "text/x-python",
      "nbconvert_exporter": "python",
      "name": "python",
      "pygments_lexer": "ipython3",
      "version": "3.6.6",
      "file_extension": ".py",
      "codemirror_mode": {
        "version": 3,
        "name": "ipython"
      }
    }
  },
  "nbformat": 4,
  "nbformat_minor": 2
}