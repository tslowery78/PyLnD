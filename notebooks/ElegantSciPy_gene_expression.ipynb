{
  "cells": [
    {
      "metadata": {
        "collapsed": true
      },
      "cell_type": "markdown",
      "source": "# Functions for Gene Expressions"
    },
    {
      "metadata": {},
      "cell_type": "markdown",
      "source": "Define a function to normalize the expression data using a method called RPKM normalization.  This allows the comparison of measurements between different samples and genes."
    },
    {
      "metadata": {},
      "cell_type": "markdown",
      "source": "<div class=\"alert alert-block alert-info\">\nIn this case, we want ot highlight NumPy's vectorization and broadcasting rules, which allow us to manipulate and reason about data arrays very efficiently.\n</div>"
    },
    {
      "metadata": {
        "trusted": true
      },
      "cell_type": "code",
      "source": "import numpy as np",
      "execution_count": 1,
      "outputs": []
    },
    {
      "metadata": {
        "trusted": true
      },
      "cell_type": "code",
      "source": "def rpkm(counts, lengths):\n    \"\"\"Calculate reads per kilobase transcript per million reads.\n    \n    RPKM = (10^9 * C) / (N * L)\n    \n    Where:\n    C = Number of reads mapped to a gene\n    N = Total mapped reads in the experiment\n    L = Exon length in base pairs for a gene\n    \n    Parameters\n    ----------\n    counts: array, shape (N_genes, N_samples)\n        RNAseq (or similar) count data where columns are individual samples and rows are genes.\n    lengths: array, shape (N_genes,)\n        Gene lengths in base pairs in the same order as the rows in counts.\n        \n    Returns\n    -------\n    normed: array, shape (N_genes, N_samples)\n        The RPKM normalized counts matrix.\n    \"\"\"\n    \n    N = np.sum(counts, axis=0)    # sum each column to get total reads per sample\n    L = lengths\n    C = counts\n    \n    normed = 1e9 * C / (N[np.newaxis, :] * L[:, np.newaxis])\n    \n    return(normed)",
      "execution_count": 2,
      "outputs": []
    },
    {
      "metadata": {},
      "cell_type": "markdown",
      "source": "Make gene expression a list of lists."
    },
    {
      "metadata": {
        "trusted": true
      },
      "cell_type": "code",
      "source": "gene0 = [100, 200]\ngene1 = [50, 0]\ngene2 = [350, 100]\nexpression_data = [gene0, gene1, gene2]",
      "execution_count": 3,
      "outputs": []
    },
    {
      "metadata": {
        "trusted": true
      },
      "cell_type": "code",
      "source": "expression_data[2][0]",
      "execution_count": 4,
      "outputs": [
        {
          "output_type": "execute_result",
          "execution_count": 4,
          "data": {
            "text/plain": "350"
          },
          "metadata": {}
        }
      ]
    },
    {
      "metadata": {},
      "cell_type": "markdown",
      "source": "NumPy N-Dimensional Arrays"
    },
    {
      "metadata": {
        "trusted": true
      },
      "cell_type": "code",
      "source": "array1d = np.array([1,2,3,4])\nprint(array1d)\nprint(type(array1d))\nprint(array1d.shape)",
      "execution_count": 5,
      "outputs": [
        {
          "output_type": "stream",
          "text": "[1 2 3 4]\n<class 'numpy.ndarray'>\n(4,)\n",
          "name": "stdout"
        }
      ]
    },
    {
      "metadata": {
        "trusted": true
      },
      "cell_type": "code",
      "source": "array2d = np.array(expression_data)\nprint(array2d)\nprint(array2d.shape)\nprint(type(array2d))",
      "execution_count": 6,
      "outputs": [
        {
          "output_type": "stream",
          "text": "[[100 200]\n [ 50   0]\n [350 100]]\n(3, 2)\n<class 'numpy.ndarray'>\n",
          "name": "stdout"
        }
      ]
    },
    {
      "metadata": {},
      "cell_type": "markdown",
      "source": "<div class=\"alert alert-block alert-success\">\nThis demonstrates that the shape function accounts for multi-dimensional arrays whereas len does not.\n</div>"
    },
    {
      "metadata": {
        "trusted": true
      },
      "cell_type": "code",
      "source": "print(array2d.ndim)",
      "execution_count": 7,
      "outputs": [
        {
          "output_type": "stream",
          "text": "2\n",
          "name": "stdout"
        }
      ]
    },
    {
      "metadata": {},
      "cell_type": "markdown",
      "source": "## Why Use ndarrays Instead of Python Lists?"
    },
    {
      "metadata": {
        "trusted": true
      },
      "cell_type": "code",
      "source": "# Create an ndarray of integers in the range\n# 0 up to (but not including) 1,000,000\narray = np.arange(1e6)\nlist_array = array.tolist()",
      "execution_count": 8,
      "outputs": []
    },
    {
      "metadata": {
        "trusted": true
      },
      "cell_type": "code",
      "source": "%timeit -n10 y = [val*5 for val in list_array]",
      "execution_count": 9,
      "outputs": [
        {
          "output_type": "stream",
          "text": "186 ms ± 102 ms per loop (mean ± std. dev. of 7 runs, 10 loops each)\n",
          "name": "stdout"
        }
      ]
    },
    {
      "metadata": {
        "trusted": true
      },
      "cell_type": "code",
      "source": "%timeit -n10 x = array * 5",
      "execution_count": 10,
      "outputs": [
        {
          "output_type": "stream",
          "text": "1.06 ms ± 228 µs per loop (mean ± std. dev. of 7 runs, 10 loops each)\n",
          "name": "stdout"
        }
      ]
    },
    {
      "metadata": {},
      "cell_type": "markdown",
      "source": "<div class=\"alert alert-block alert-success\">\nUsing numpy array makes the calculation 50x faster than a list comprehension on a list.\n</div>"
    },
    {
      "metadata": {},
      "cell_type": "markdown",
      "source": "Ndarrays are more memory efficient than lists, using only the minimal memory needed for what is in the array.  You can use slices of arrays without making a copy.  If you modify this assignment it will change the original array."
    },
    {
      "metadata": {
        "trusted": true
      },
      "cell_type": "code",
      "source": "# Create an ndarray x\nx = np.array([1, 2, 3], np.int32)\nprint(x)",
      "execution_count": 11,
      "outputs": [
        {
          "output_type": "stream",
          "text": "[1 2 3]\n",
          "name": "stdout"
        }
      ]
    },
    {
      "metadata": {
        "trusted": true
      },
      "cell_type": "code",
      "source": "# Create a \"slice\" of x\ny = x[:2]\nprint(y)",
      "execution_count": 12,
      "outputs": [
        {
          "output_type": "stream",
          "text": "[1 2]\n",
          "name": "stdout"
        }
      ]
    },
    {
      "metadata": {
        "trusted": true
      },
      "cell_type": "code",
      "source": "# Set the first element of y to be 6\ny[0] = 6\nprint(y)",
      "execution_count": 13,
      "outputs": [
        {
          "output_type": "stream",
          "text": "[6 2]\n",
          "name": "stdout"
        }
      ]
    },
    {
      "metadata": {
        "trusted": true
      },
      "cell_type": "code",
      "source": "# Now the first element in x has changed to 6!\nprint(x)",
      "execution_count": 14,
      "outputs": [
        {
          "output_type": "stream",
          "text": "[6 2 3]\n",
          "name": "stdout"
        }
      ]
    },
    {
      "metadata": {},
      "cell_type": "markdown",
      "source": "<div class=\"alert alert-block alert-danger\">\nNotice that although we edited y, x has also changed, because y was referencing the same data!</div>"
    },
    {
      "metadata": {
        "trusted": true
      },
      "cell_type": "code",
      "source": "# You must be careful with array references, to make a copy\ny = np.copy(x[:2])",
      "execution_count": 15,
      "outputs": []
    },
    {
      "metadata": {},
      "cell_type": "markdown",
      "source": "## Vectorization"
    },
    {
      "metadata": {},
      "cell_type": "markdown",
      "source": "Apply a calculation to each element in an array without having to use a for loop.  This will also result in more readable code."
    },
    {
      "metadata": {
        "trusted": true
      },
      "cell_type": "code",
      "source": "x = np.array([1, 2, 3, 4])\nprint(x * 2)",
      "execution_count": 16,
      "outputs": [
        {
          "output_type": "stream",
          "text": "[2 4 6 8]\n",
          "name": "stdout"
        }
      ]
    },
    {
      "metadata": {
        "trusted": true
      },
      "cell_type": "code",
      "source": "y = np.array([0, 1, 2, 1])\nprint(x + y)",
      "execution_count": 17,
      "outputs": [
        {
          "output_type": "stream",
          "text": "[1 3 5 5]\n",
          "name": "stdout"
        }
      ]
    },
    {
      "metadata": {},
      "cell_type": "markdown",
      "source": "## Broadcasting"
    },
    {
      "metadata": {},
      "cell_type": "markdown",
      "source": "Broadcasting is a way of performing implicit operations between two arrays, allowing you to perform operations on arrays of *compatible* shapes, to create arrays bigger than either of the starting ones."
    },
    {
      "metadata": {
        "trusted": true
      },
      "cell_type": "code",
      "source": "x = np.array([1, 2, 3, 4])\nx = np.reshape(x, (len(x), 1))\nprint(x)",
      "execution_count": 18,
      "outputs": [
        {
          "output_type": "stream",
          "text": "[[1]\n [2]\n [3]\n [4]]\n",
          "name": "stdout"
        }
      ]
    },
    {
      "metadata": {
        "trusted": true
      },
      "cell_type": "code",
      "source": "x.shape",
      "execution_count": 19,
      "outputs": [
        {
          "output_type": "execute_result",
          "execution_count": 19,
          "data": {
            "text/plain": "(4, 1)"
          },
          "metadata": {}
        }
      ]
    },
    {
      "metadata": {
        "trusted": true
      },
      "cell_type": "code",
      "source": "y = np.array([0, 1, 2, 1])\ny = np.reshape(y, [1, len(y)])\nprint(y)",
      "execution_count": 20,
      "outputs": [
        {
          "output_type": "stream",
          "text": "[[0 1 2 1]]\n",
          "name": "stdout"
        }
      ]
    },
    {
      "metadata": {
        "trusted": true
      },
      "cell_type": "code",
      "source": "y.shape",
      "execution_count": 21,
      "outputs": [
        {
          "output_type": "execute_result",
          "execution_count": 21,
          "data": {
            "text/plain": "(1, 4)"
          },
          "metadata": {}
        }
      ]
    },
    {
      "metadata": {
        "trusted": true
      },
      "cell_type": "code",
      "source": "outer = x * y\nprint(outer)",
      "execution_count": 22,
      "outputs": [
        {
          "output_type": "stream",
          "text": "[[0 1 2 1]\n [0 2 4 2]\n [0 3 6 3]\n [0 4 8 4]]\n",
          "name": "stdout"
        }
      ]
    },
    {
      "metadata": {
        "trusted": true
      },
      "cell_type": "code",
      "source": "print(outer.shape)",
      "execution_count": 23,
      "outputs": [
        {
          "output_type": "stream",
          "text": "(4, 4)\n",
          "name": "stdout"
        }
      ]
    },
    {
      "metadata": {},
      "cell_type": "markdown",
      "source": "## Exploring a Gene Expressions Dataset"
    },
    {
      "metadata": {
        "trusted": true
      },
      "cell_type": "code",
      "source": "import pandas as pd",
      "execution_count": 24,
      "outputs": []
    },
    {
      "metadata": {
        "trusted": true
      },
      "cell_type": "code",
      "source": "import bz2\nfilename = 'ElegantSciPy/data/counts.txt.bz2'",
      "execution_count": 25,
      "outputs": []
    },
    {
      "metadata": {
        "trusted": true
      },
      "cell_type": "code",
      "source": "# Import TCGA malanoma data\nwith open(filename, 'rt') as f:\n    data_table = pd.read_csv(filename, compression='bz2', header=0, sep=',', quotechar='\"')",
      "execution_count": 26,
      "outputs": []
    },
    {
      "metadata": {
        "trusted": true
      },
      "cell_type": "code",
      "source": "print(data_table.iloc[:5, :5])",
      "execution_count": 27,
      "outputs": [
        {
          "output_type": "stream",
          "text": "  Unnamed: 0  00624286-41dd-476f-a63b-d2a5f484bb45  TCGA-FS-A1Z0  \\\n0       A1BG                               1272.36        452.96   \n1       A1CF                                  0.00          0.00   \n2      A2BP1                                  0.00          0.00   \n3      A2LD1                                164.38        552.43   \n4      A2ML1                                 27.00          0.00   \n\n   TCGA-D9-A3Z1  02c76d24-f1d2-4029-95b4-8be3bda8fdbe  \n0        288.06                                400.11  \n1          0.00                                  1.00  \n2          0.00                                  0.00  \n3        201.83                                165.12  \n4          0.00                                  0.00  \n",
          "name": "stdout"
        }
      ]
    },
    {
      "metadata": {
        "trusted": true
      },
      "cell_type": "code",
      "source": "# Sample names\nsamples = list(data_table.columns)",
      "execution_count": 28,
      "outputs": []
    },
    {
      "metadata": {
        "trusted": true
      },
      "cell_type": "code",
      "source": "filename = 'ElegantSciPy/data/genes.csv'\nwith open(filename, 'rt') as f:    # Parse file with pandas, index by GeneSymbol\n    gene_info = pd.read_csv(f, index_col=0)\nprint(gene_info)",
      "execution_count": 29,
      "outputs": [
        {
          "output_type": "stream",
          "text": "               GeneID  GeneLength\nGeneSymbol                       \nCPA1             1357        1724\nGUCY2D           3000        3623\nUBC              7316        2687\nC11orf95        65998        5581\nANKMY2          57037        2611\nC17orf81        23587        2399\nTTC36          143941         814\nIQCD           115811        2367\nHSPA13           6782        3984\nCD72              971        2480\nMGMT             4255        1265\nC19orf71    100128569         670\nCEACAM19        56971        2246\nFUNDC2          65991        2963\nMRPL11          65003        1685\nLOC440040      440040        2275\nSLC7A14         57709       10133\nMAP6             4135        5594\nVPS54           51542        7416\nTMED4          222068        2439\nL1TD1           54596        3854\nMEIG1          644890         625\nCCDC136         64753        4659\nC1orf92        149499        2183\nARSJ            79642        4759\nPPIAL4C        653598         783\nPAK1             5058        3657\nFAM157A        728262        2474\nZC3H12C         85463       10681\nLCN12          286256        1799\n...               ...         ...\nROBO4           54538        4327\nTLR8            51311        4332\nNARF            26502        3357\nPIK3R2           5296        5182\nGPR6             2830        1895\nPLCB3            5331        4714\nSLC35A2          7355        3559\nCBFB              865        3131\nEXOSC5          56915         991\nZNF383         163087        2881\nEIF5A            1984        2553\nMRE11A           4361        5385\nZNF641         121274        3124\nFNBP1L          54874        5364\nPLAC1L         219990        1630\nLOC201651      201651        1289\nUSP10            9100        3497\nMTMR8           55613        3887\nSPATA21        374955        4013\nHNRNPA3        220988        5820\nSYNE2           23224       25317\nRECK             8434        5958\nC19orf40        91442        1133\nKIAA0040         9674        4818\nCT47A7         653282        1291\nSIGIRR          59307        2136\nOXTR             5021        4358\nDRAM1           55332        3541\nLZTFL1          54585        4167\nCSF3             1440        1693\n\n[20503 rows x 2 columns]\n",
          "name": "stdout"
        }
      ]
    },
    {
      "metadata": {
        "trusted": true
      },
      "cell_type": "code",
      "source": "print(\"Genes in data_table: \", data_table.shape[0])\nprint(\"Genes in gene_info:  \", gene_info.shape[0])",
      "execution_count": 36,
      "outputs": [
        {
          "output_type": "stream",
          "text": "Genes in data_table:  20500\nGenes in gene_info:   20503\n",
          "name": "stdout"
        }
      ]
    },
    {
      "metadata": {
        "trusted": true
      },
      "cell_type": "code",
      "source": "# Subset gene info to match the count data\nmatched_index = pd.Index.intersection(data_table.index, gene_info.index)",
      "execution_count": 44,
      "outputs": []
    },
    {
      "metadata": {
        "trusted": true
      },
      "cell_type": "code",
      "source": "# 2D ndarray containing expression counts for each gene in each individual \ncounts = np.asarray(data_table.loc[matched_index], dtype=int)",
      "execution_count": 47,
      "outputs": [
        {
          "output_type": "error",
          "ename": "SyntaxError",
          "evalue": "invalid character in identifier (<ipython-input-47-0739e89aaa7a>, line 2)",
          "traceback": [
            "\u001b[0;36m  File \u001b[0;32m\"<ipython-input-47-0739e89aaa7a>\"\u001b[0;36m, line \u001b[0;32m2\u001b[0m\n\u001b[0;31m    counts = np.asarray(data_table.loc[matched_index], dtype=int)\u001b[0m\n\u001b[0m          ^\u001b[0m\n\u001b[0;31mSyntaxError\u001b[0m\u001b[0;31m:\u001b[0m invalid character in identifier\n"
          ]
        }
      ]
    }
  ],
  "metadata": {
    "kernelspec": {
      "name": "python3",
      "display_name": "Python 3",
      "language": "python"
    },
    "language_info": {
      "mimetype": "text/x-python",
      "nbconvert_exporter": "python",
      "name": "python",
      "pygments_lexer": "ipython3",
      "version": "3.5.4",
      "file_extension": ".py",
      "codemirror_mode": {
        "version": 3,
        "name": "ipython"
      }
    }
  },
  "nbformat": 4,
  "nbformat_minor": 2
}