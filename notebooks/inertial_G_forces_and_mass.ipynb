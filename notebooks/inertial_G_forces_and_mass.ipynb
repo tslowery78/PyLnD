{
  "cells": [
    {
      "metadata": {
        "trusted": true
      },
      "cell_type": "markdown",
      "source": "# G Force Explanation"
    },
    {
      "metadata": {
        "trusted": true
      },
      "cell_type": "markdown",
      "source": "This notebook attempts to explain what is meant by inertial loads and address the confusiin of the english mass system."
    },
    {
      "metadata": {
        "trusted": true
      },
      "cell_type": "markdown",
      "source": "## Definition of the parameter G."
    },
    {
      "metadata": {
        "trusted": true
      },
      "cell_type": "markdown",
      "source": "I found an excellent description of the parameter G from the _Fundamentals of Aerospace Medicine_.  The parameter G is introduced as a measure of the strength of the gravitoinertial force environment, or the measure of relative weight."
    },
    {
      "metadata": {},
      "cell_type": "markdown",
      "source": "\\begin{align}\nG=w/w_0=g/g_0\n\\end{align}"
    },
    {
      "metadata": {
        "trusted": true
      },
      "cell_type": "markdown",
      "source": "Where $w$ is the weight observed in the environment under consideration and $w_0$ is the weight observed on the surface of the Earth.  This can also be expressed as the ratio of the environment's acceleration ($g$) using Newton's 2nd Law ($F=mg=w$)."
    },
    {
      "metadata": {
        "trusted": true
      },
      "cell_type": "markdown",
      "source": "<div class=\"alert alert-block alert-info\">\nWhat would I weigh on Jupiter?\n</div>"
    },
    {
      "metadata": {
        "trusted": true
      },
      "cell_type": "code",
      "source": "weight_on_earth = 200 # [lbs]\ngravity_on_earth = 9.81 # [m/s2]\ngravity_on_jupiter = 24.79 # [m/s2]\nweight_on_jupiter = (gravity_on_jupiter / gravity_on_earth) * weight_on_earth\nprint('My weight on Jupiter would be {0:.2f} lbs'.format(weight_on_jupiter))",
      "execution_count": 9,
      "outputs": [
        {
          "output_type": "stream",
          "text": "My weight on Jupiter would be 505.40 lbs\n",
          "name": "stdout"
        }
      ]
    },
    {
      "metadata": {},
      "cell_type": "markdown",
      "source": "<div class=\"alert alert-block alert-info\">\nHow many G's would I be experiencing on Jupiter?</div>"
    },
    {
      "metadata": {
        "trusted": true
      },
      "cell_type": "code",
      "source": "print(\"I would be under {0:.2f} G's on Jupiter\".format(gravity_on_jupiter / gravity_on_earth))",
      "execution_count": 8,
      "outputs": [
        {
          "output_type": "stream",
          "text": "I would be under 2.53 G's on Jupiter\n",
          "name": "stdout"
        }
      ]
    },
    {
      "metadata": {},
      "cell_type": "markdown",
      "source": "## Definition of an inertial load."
    },
    {
      "metadata": {},
      "cell_type": "markdown",
      "source": "Wikipedia defines inertia as the resistance, of any physical object, to any change in its velocity.  Thus, I can state that **inertial loads** are the loads required to accelerate a mass to a new velocity."
    },
    {
      "metadata": {},
      "cell_type": "markdown",
      "source": "## The basic units of mass"
    },
    {
      "metadata": {},
      "cell_type": "markdown",
      "source": "The metric system does a great job of keeping weight and mass straightforward.  The basic mass unit of the metric system is the kilogram ($kg$)."
    },
    {
      "metadata": {},
      "cell_type": "markdown",
      "source": "When weighing something it is often said that it weighs a certain amount of kilos.  These kilos are really a quantity known as kilogram-force ($kg_f$).  A $kg_f$ is equal to the magnitude of the force exerted on 1 $kg$ of mass in a standard gravitation field (Earth's gravity:  9.81 $m/s^2$). Therefore, a 1 $kg_f$ is by definition equal to 9.81 $N$."
    },
    {
      "metadata": {},
      "cell_type": "markdown",
      "source": "\\begin{align}\nF=ma=>[N]=[kg][\\frac{m}{s^2}]\n\\end{align}"
    },
    {
      "metadata": {
        "trusted": true
      },
      "cell_type": "markdown",
      "source": "The English system is a bit trickier.  Contrary to what might be intuited, the $lb_m$ is not the basic unit of mass in Newton's 2nd law, the $slug$ is the basic mass unit."
    },
    {
      "metadata": {},
      "cell_type": "markdown",
      "source": "\\begin{align}\nF=ma=>[lb_f]=[slug][\\frac{ft}{s^2}]\n\\end{align}"
    },
    {
      "metadata": {},
      "cell_type": "markdown",
      "source": "A slug is defined as the mass that is accelerated by 1 $ft/s^2$ when a force of 1 $lb_f$ is exerted on it.  Then the weight of one $slug$ in the standard gravitational field (Earth's gravity: 32.2 $ft/s^2$) is defined to be 32.2 $lb_f$.  Thus, one slug is the mass of 32.2 $lb_m$."
    },
    {
      "metadata": {
        "trusted": true
      },
      "cell_type": "markdown",
      "source": "As with the metric system, when weighing something on Earth we report that weight in pounds ($lbs$), this pounds is actually $lbs_f$ in the Earth's gravitational field."
    },
    {
      "metadata": {},
      "cell_type": "markdown",
      "source": "\\begin{align}\n1lbs_f=1lb_m*\\frac{1slug}{32.2lb_m} *32.2\\frac{ft}{s^2}\n\\end{align}"
    },
    {
      "metadata": {},
      "cell_type": "markdown",
      "source": "<div class=\"alert alert-block alert-info\">\nWhat does 32.2 $lb_m$ ($1 slug$) weigh on Jupiter?</div>"
    },
    {
      "metadata": {
        "trusted": true
      },
      "cell_type": "code",
      "source": "g_jupiter = 24.79 * 3.2808399 # ft/s2\nweight_on_jupiter = 32.2 * (1/32.2) * g_jupiter\nprint('One slug weighs {0:.2f} lbf on Jupiter.'.format(weight_on_jupiter))",
      "execution_count": 6,
      "outputs": [
        {
          "output_type": "stream",
          "text": "One slug weighs 81.33 lbf on Jupiter.\n",
          "name": "stdout"
        }
      ]
    },
    {
      "metadata": {},
      "cell_type": "markdown",
      "source": "## Practical Explanation of $lb_m$"
    },
    {
      "metadata": {},
      "cell_type": "markdown",
      "source": "This __[video](https://youtu.be/4ePaKh9QyC8)__ does an excellent job of explaining the confusion of $lb_m$."
    },
    {
      "metadata": {
        "trusted": true
      },
      "cell_type": "markdown",
      "source": "<div class=\"alert alert-block alert-info\">\nDo we need to multiply 1 $lb_m$ by gravity to obtain the weight?</div>"
    },
    {
      "metadata": {},
      "cell_type": "markdown",
      "source": "Taking a look at the metric system, when finding the weight of 10 $g$, you must first convert to the basic mass unit, the $kg$:"
    },
    {
      "metadata": {},
      "cell_type": "markdown",
      "source": "\\begin{align}\nF=ma=(\\frac{1kg}{1000g})(10g)(9.81m/s2)=0.0981N\n\\end{align}"
    },
    {
      "metadata": {},
      "cell_type": "markdown",
      "source": "If you assumed that $lb_m$ like the $kg$ is the base unit, then you would get wrong answers:"
    },
    {
      "metadata": {},
      "cell_type": "markdown",
      "source": "\\begin{align}\nF=ma=10lb_m(32.2ft/s^2)\\neq lb_f\n\\end{align}"
    },
    {
      "metadata": {},
      "cell_type": "markdown",
      "source": "The base unit is the $slug$, thus the $lb_m$ must be converted:"
    },
    {
      "metadata": {},
      "cell_type": "markdown",
      "source": "\\begin{align}\nF=(10 lb_m)(\\frac{1 slug}{32.2 lb_m})(32.2 ft/s^2)=10 lb_f\n\\end{align}"
    },
    {
      "metadata": {},
      "cell_type": "markdown",
      "source": "## Sliches"
    },
    {
      "metadata": {},
      "cell_type": "markdown",
      "source": "An English unit of mass equal to 12 $slugs$ (386.088 $lb_m$), that accelerates by 1 inch per second squared (1 $in/s^2$) when a force of one pound-force ($lb_f$) is exerted on it."
    }
  ],
  "metadata": {
    "kernelspec": {
      "name": "python36",
      "display_name": "Python 3.6",
      "language": "python"
    },
    "language_info": {
      "mimetype": "text/x-python",
      "nbconvert_exporter": "python",
      "name": "python",
      "pygments_lexer": "ipython3",
      "version": "3.6.6",
      "file_extension": ".py",
      "codemirror_mode": {
        "version": 3,
        "name": "ipython"
      }
    }
  },
  "nbformat": 4,
  "nbformat_minor": 1
}